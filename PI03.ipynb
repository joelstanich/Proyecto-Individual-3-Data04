{
 "cells": [
  {
   "cell_type": "markdown",
   "metadata": {},
   "source": [
    "# Exploracion, Transformacion y Limpieza de los Datos"
   ]
  },
  {
   "cell_type": "markdown",
   "metadata": {},
   "source": [
    "Importación de las librerias necesarias"
   ]
  },
  {
   "cell_type": "code",
   "execution_count": 1,
   "metadata": {},
   "outputs": [],
   "source": [
    "import pandas as pd\n",
    "import missingno as msno\n",
    "import matplotlib.pyplot as plt\n",
    "import numpy as np\n",
    "import datetime\n",
    "from deep_translator import GoogleTranslator"
   ]
  },
  {
   "cell_type": "markdown",
   "metadata": {},
   "source": [
    "Apertura de Datos"
   ]
  },
  {
   "cell_type": "code",
   "execution_count": 60,
   "metadata": {},
   "outputs": [],
   "source": [
    "data = pd.read_csv('accidentesaviones.csv')\n",
    "\n",
    "#Configuro para que se puedan visualizar todas las columnas\n",
    "pd.set_option('display.max_columns', None)\n",
    "pd.options.display.float_format = '{:.2f}'.format\n"
   ]
  },
  {
   "cell_type": "markdown",
   "metadata": {},
   "source": [
    "La primera columna es una idenfificación única por lo que la renombro y mantengo como index."
   ]
  },
  {
   "cell_type": "code",
   "execution_count": 61,
   "metadata": {},
   "outputs": [],
   "source": [
    "data.rename(columns={'Unnamed: 0':'id'}, inplace=True)\n",
    "data.set_index('id', inplace=True)"
   ]
  },
  {
   "cell_type": "markdown",
   "metadata": {},
   "source": [
    "Visualizo como se componen las columnas"
   ]
  },
  {
   "cell_type": "code",
   "execution_count": 62,
   "metadata": {},
   "outputs": [
    {
     "data": {
      "text/html": [
       "<div>\n",
       "<style scoped>\n",
       "    .dataframe tbody tr th:only-of-type {\n",
       "        vertical-align: middle;\n",
       "    }\n",
       "\n",
       "    .dataframe tbody tr th {\n",
       "        vertical-align: top;\n",
       "    }\n",
       "\n",
       "    .dataframe thead th {\n",
       "        text-align: right;\n",
       "    }\n",
       "</style>\n",
       "<table border=\"1\" class=\"dataframe\">\n",
       "  <thead>\n",
       "    <tr style=\"text-align: right;\">\n",
       "      <th></th>\n",
       "      <th>fecha</th>\n",
       "      <th>HORA declarada</th>\n",
       "      <th>Ruta</th>\n",
       "      <th>OperadOR</th>\n",
       "      <th>flight_no</th>\n",
       "      <th>route</th>\n",
       "      <th>ac_type</th>\n",
       "      <th>registration</th>\n",
       "      <th>cn_ln</th>\n",
       "      <th>all_aboard</th>\n",
       "      <th>PASAJEROS A BORDO</th>\n",
       "      <th>crew_aboard</th>\n",
       "      <th>cantidad de fallecidos</th>\n",
       "      <th>passenger_fatalities</th>\n",
       "      <th>crew_fatalities</th>\n",
       "      <th>ground</th>\n",
       "      <th>summary</th>\n",
       "    </tr>\n",
       "    <tr>\n",
       "      <th>id</th>\n",
       "      <th></th>\n",
       "      <th></th>\n",
       "      <th></th>\n",
       "      <th></th>\n",
       "      <th></th>\n",
       "      <th></th>\n",
       "      <th></th>\n",
       "      <th></th>\n",
       "      <th></th>\n",
       "      <th></th>\n",
       "      <th></th>\n",
       "      <th></th>\n",
       "      <th></th>\n",
       "      <th></th>\n",
       "      <th></th>\n",
       "      <th></th>\n",
       "      <th></th>\n",
       "    </tr>\n",
       "  </thead>\n",
       "  <tbody>\n",
       "    <tr>\n",
       "      <th>0</th>\n",
       "      <td>September 17, 1908</td>\n",
       "      <td>1718</td>\n",
       "      <td>Fort Myer, Virginia</td>\n",
       "      <td>Military - U.S. Army</td>\n",
       "      <td>?</td>\n",
       "      <td>Demonstration</td>\n",
       "      <td>Wright Flyer III</td>\n",
       "      <td>?</td>\n",
       "      <td>1</td>\n",
       "      <td>2</td>\n",
       "      <td>1</td>\n",
       "      <td>1</td>\n",
       "      <td>1</td>\n",
       "      <td>1</td>\n",
       "      <td>0</td>\n",
       "      <td>0</td>\n",
       "      <td>During a demonstration flight, a U.S. Army fly...</td>\n",
       "    </tr>\n",
       "    <tr>\n",
       "      <th>1</th>\n",
       "      <td>September 07, 1909</td>\n",
       "      <td>?</td>\n",
       "      <td>Juvisy-sur-Orge, France</td>\n",
       "      <td>?</td>\n",
       "      <td>?</td>\n",
       "      <td>Air show</td>\n",
       "      <td>Wright Byplane</td>\n",
       "      <td>SC1</td>\n",
       "      <td>?</td>\n",
       "      <td>1</td>\n",
       "      <td>0</td>\n",
       "      <td>1</td>\n",
       "      <td>1</td>\n",
       "      <td>0</td>\n",
       "      <td>0</td>\n",
       "      <td>0</td>\n",
       "      <td>Eugene Lefebvre was the first pilot to ever be...</td>\n",
       "    </tr>\n",
       "    <tr>\n",
       "      <th>2</th>\n",
       "      <td>July 12, 1912</td>\n",
       "      <td>0630</td>\n",
       "      <td>Atlantic City, New Jersey</td>\n",
       "      <td>Military - U.S. Navy</td>\n",
       "      <td>?</td>\n",
       "      <td>Test flight</td>\n",
       "      <td>Dirigible</td>\n",
       "      <td>?</td>\n",
       "      <td>?</td>\n",
       "      <td>5</td>\n",
       "      <td>0</td>\n",
       "      <td>5</td>\n",
       "      <td>5</td>\n",
       "      <td>0</td>\n",
       "      <td>5</td>\n",
       "      <td>0</td>\n",
       "      <td>First U.S. dirigible Akron exploded just offsh...</td>\n",
       "    </tr>\n",
       "    <tr>\n",
       "      <th>3</th>\n",
       "      <td>August 06, 1913</td>\n",
       "      <td>?</td>\n",
       "      <td>Victoria, British Columbia, Canada</td>\n",
       "      <td>Private</td>\n",
       "      <td>?</td>\n",
       "      <td>?</td>\n",
       "      <td>Curtiss seaplane</td>\n",
       "      <td>?</td>\n",
       "      <td>?</td>\n",
       "      <td>1</td>\n",
       "      <td>0</td>\n",
       "      <td>1</td>\n",
       "      <td>1</td>\n",
       "      <td>0</td>\n",
       "      <td>1</td>\n",
       "      <td>0</td>\n",
       "      <td>The first fatal airplane accident in Canada oc...</td>\n",
       "    </tr>\n",
       "    <tr>\n",
       "      <th>4</th>\n",
       "      <td>September 09, 1913</td>\n",
       "      <td>1830</td>\n",
       "      <td>Over the North Sea</td>\n",
       "      <td>Military - German Navy</td>\n",
       "      <td>?</td>\n",
       "      <td>?</td>\n",
       "      <td>Zeppelin L-1 (airship)</td>\n",
       "      <td>?</td>\n",
       "      <td>?</td>\n",
       "      <td>20</td>\n",
       "      <td>?</td>\n",
       "      <td>?</td>\n",
       "      <td>14</td>\n",
       "      <td>?</td>\n",
       "      <td>?</td>\n",
       "      <td>0</td>\n",
       "      <td>The airship flew into a thunderstorm and encou...</td>\n",
       "    </tr>\n",
       "  </tbody>\n",
       "</table>\n",
       "</div>"
      ],
      "text/plain": [
       "                 fecha HORA declarada                                Ruta  \\\n",
       "id                                                                          \n",
       "0   September 17, 1908           1718                 Fort Myer, Virginia   \n",
       "1   September 07, 1909              ?             Juvisy-sur-Orge, France   \n",
       "2        July 12, 1912           0630           Atlantic City, New Jersey   \n",
       "3      August 06, 1913              ?  Victoria, British Columbia, Canada   \n",
       "4   September 09, 1913           1830                  Over the North Sea   \n",
       "\n",
       "                  OperadOR flight_no          route                 ac_type  \\\n",
       "id                                                                            \n",
       "0     Military - U.S. Army         ?  Demonstration        Wright Flyer III   \n",
       "1                        ?         ?       Air show          Wright Byplane   \n",
       "2     Military - U.S. Navy         ?    Test flight               Dirigible   \n",
       "3                  Private         ?              ?        Curtiss seaplane   \n",
       "4   Military - German Navy         ?              ?  Zeppelin L-1 (airship)   \n",
       "\n",
       "   registration cn_ln all_aboard PASAJEROS A BORDO crew_aboard  \\\n",
       "id                                                               \n",
       "0             ?     1          2                 1           1   \n",
       "1           SC1     ?          1                 0           1   \n",
       "2             ?     ?          5                 0           5   \n",
       "3             ?     ?          1                 0           1   \n",
       "4             ?     ?         20                 ?           ?   \n",
       "\n",
       "   cantidad de fallecidos passenger_fatalities crew_fatalities ground  \\\n",
       "id                                                                      \n",
       "0                       1                    1               0      0   \n",
       "1                       1                    0               0      0   \n",
       "2                       5                    0               5      0   \n",
       "3                       1                    0               1      0   \n",
       "4                      14                    ?               ?      0   \n",
       "\n",
       "                                              summary  \n",
       "id                                                     \n",
       "0   During a demonstration flight, a U.S. Army fly...  \n",
       "1   Eugene Lefebvre was the first pilot to ever be...  \n",
       "2   First U.S. dirigible Akron exploded just offsh...  \n",
       "3   The first fatal airplane accident in Canada oc...  \n",
       "4   The airship flew into a thunderstorm and encou...  "
      ]
     },
     "execution_count": 62,
     "metadata": {},
     "output_type": "execute_result"
    }
   ],
   "source": [
    "data.head()"
   ]
  },
  {
   "cell_type": "code",
   "execution_count": 63,
   "metadata": {},
   "outputs": [
    {
     "data": {
      "text/plain": [
       "(5008, 17)"
      ]
     },
     "execution_count": 63,
     "metadata": {},
     "output_type": "execute_result"
    }
   ],
   "source": [
    "data.shape"
   ]
  },
  {
   "cell_type": "markdown",
   "metadata": {},
   "source": [
    "Borro el caracter esppecial '?'"
   ]
  },
  {
   "cell_type": "code",
   "execution_count": 64,
   "metadata": {},
   "outputs": [],
   "source": [
    "data = data.replace(['?'], [''])"
   ]
  },
  {
   "cell_type": "markdown",
   "metadata": {},
   "source": [
    "Cambio el formato de fecha"
   ]
  },
  {
   "cell_type": "code",
   "execution_count": 65,
   "metadata": {},
   "outputs": [],
   "source": [
    "data['fecha'] = pd.to_datetime(data['fecha'])"
   ]
  },
  {
   "cell_type": "markdown",
   "metadata": {},
   "source": [
    "Normalizo nombres de las columnas"
   ]
  },
  {
   "cell_type": "code",
   "execution_count": 67,
   "metadata": {},
   "outputs": [],
   "source": [
    "data=data.rename(columns={'HORA declarada':'hora',\n",
    "                          'Ruta':'ruta',\n",
    "                          'OperadOR':'operador',\n",
    "                          'flight_no':'nro_vuelo',\n",
    "                          'ac_type':'tipo_aeronave',\n",
    "                          'registration':'registro',\n",
    "                          'all_aboard':'total_a_bordo',\n",
    "                          'PASAJEROS A BORDO':'pasajeros_a_bordo', \n",
    "                          'cantidad de fallecidos': 'cantidad_de_fallecidos',\n",
    "                          'passenger_fatalities':'pasajeros_fallecidos',\n",
    "                          'crew_aboard':'tripulacion',\n",
    "                          'crew_fatalities':'tripulacion_fallecida',\n",
    "                          'ground':'fallecidos_en_tierra',\n",
    "                          'summary':'resumen'})"
   ]
  },
  {
   "cell_type": "code",
   "execution_count": 68,
   "metadata": {},
   "outputs": [
    {
     "name": "stdout",
     "output_type": "stream",
     "text": [
      "fecha                     datetime64[ns]\n",
      "hora                              object\n",
      "ruta                              object\n",
      "operador                          object\n",
      "nro_vuelo                         object\n",
      "route                             object\n",
      "tipo_aeronave                     object\n",
      "registro                          object\n",
      "cn_ln                             object\n",
      "total_a_bordo                     object\n",
      "pasajeros_a_bordo                 object\n",
      "tripulacion                       object\n",
      "cantidad_de_fallecidos            object\n",
      "pasajeros_fallecidos              object\n",
      "tripulacion_fallecida             object\n",
      "fallecidos_en_tierra              object\n",
      "resumen                           object\n",
      "dtype: object\n"
     ]
    }
   ],
   "source": [
    "print(data.dtypes)"
   ]
  },
  {
   "cell_type": "markdown",
   "metadata": {},
   "source": [
    "Normalizo la columna Hora, quitandole caracteres adicionales y formateandola correctamente"
   ]
  },
  {
   "cell_type": "code",
   "execution_count": 69,
   "metadata": {},
   "outputs": [
    {
     "data": {
      "text/plain": [
       "id\n",
       "0       1718\n",
       "1           \n",
       "2       0630\n",
       "3           \n",
       "4       1830\n",
       "        ... \n",
       "5003    1835\n",
       "5004    1800\n",
       "5005    0800\n",
       "5006    1130\n",
       "5007    1500\n",
       "Name: hora, Length: 5008, dtype: object"
      ]
     },
     "execution_count": 69,
     "metadata": {},
     "output_type": "execute_result"
    }
   ],
   "source": [
    "def norm_hora(valor):\n",
    "    valor=valor.replace('c','') \n",
    "    valor=valor.replace('Z','')\n",
    "    valor=valor.replace('c:','')\n",
    "    valor=valor.replace(' ','')\n",
    "    valor=valor.replace(':','')\n",
    "    valor=valor.replace(';','')\n",
    "    \n",
    "    if ':' not in valor:\n",
    "        return valor\n",
    "    elif valor[0] == ':':\n",
    "        return f'00{valor}'\n",
    "    elif valor[-1] == ':':\n",
    "        return f'{valor}00'\n",
    "    elif len(valor) == 4:\n",
    "        return '0' + valor\n",
    "    else:\n",
    "        return valor\n",
    "    \n",
    "data['hora']=data['hora'].apply(lambda x:norm_hora(x))\n",
    "data['hora']"
   ]
  },
  {
   "cell_type": "code",
   "execution_count": 70,
   "metadata": {},
   "outputs": [],
   "source": [
    "#reemplazo los valores inexistentes por valor 00:00,\n",
    "\n",
    "data.hora.replace([''],'0000', inplace=True)"
   ]
  },
  {
   "cell_type": "markdown",
   "metadata": {},
   "source": [
    "Formateo con datetime la columna hora"
   ]
  },
  {
   "cell_type": "code",
   "execution_count": 71,
   "metadata": {},
   "outputs": [],
   "source": [
    "data.hora=pd.to_datetime(data.hora, format='%H%M').dt.time"
   ]
  },
  {
   "cell_type": "code",
   "execution_count": 72,
   "metadata": {},
   "outputs": [
    {
     "data": {
      "text/html": [
       "<div>\n",
       "<style scoped>\n",
       "    .dataframe tbody tr th:only-of-type {\n",
       "        vertical-align: middle;\n",
       "    }\n",
       "\n",
       "    .dataframe tbody tr th {\n",
       "        vertical-align: top;\n",
       "    }\n",
       "\n",
       "    .dataframe thead th {\n",
       "        text-align: right;\n",
       "    }\n",
       "</style>\n",
       "<table border=\"1\" class=\"dataframe\">\n",
       "  <thead>\n",
       "    <tr style=\"text-align: right;\">\n",
       "      <th></th>\n",
       "      <th>fecha</th>\n",
       "      <th>hora</th>\n",
       "      <th>ruta</th>\n",
       "      <th>operador</th>\n",
       "      <th>nro_vuelo</th>\n",
       "      <th>route</th>\n",
       "      <th>tipo_aeronave</th>\n",
       "      <th>registro</th>\n",
       "      <th>cn_ln</th>\n",
       "      <th>total_a_bordo</th>\n",
       "      <th>pasajeros_a_bordo</th>\n",
       "      <th>tripulacion</th>\n",
       "      <th>cantidad_de_fallecidos</th>\n",
       "      <th>pasajeros_fallecidos</th>\n",
       "      <th>tripulacion_fallecida</th>\n",
       "      <th>fallecidos_en_tierra</th>\n",
       "      <th>resumen</th>\n",
       "    </tr>\n",
       "    <tr>\n",
       "      <th>id</th>\n",
       "      <th></th>\n",
       "      <th></th>\n",
       "      <th></th>\n",
       "      <th></th>\n",
       "      <th></th>\n",
       "      <th></th>\n",
       "      <th></th>\n",
       "      <th></th>\n",
       "      <th></th>\n",
       "      <th></th>\n",
       "      <th></th>\n",
       "      <th></th>\n",
       "      <th></th>\n",
       "      <th></th>\n",
       "      <th></th>\n",
       "      <th></th>\n",
       "      <th></th>\n",
       "    </tr>\n",
       "  </thead>\n",
       "  <tbody>\n",
       "    <tr>\n",
       "      <th>0</th>\n",
       "      <td>1908-09-17</td>\n",
       "      <td>17:18:00</td>\n",
       "      <td>Fort Myer, Virginia</td>\n",
       "      <td>Military - U.S. Army</td>\n",
       "      <td></td>\n",
       "      <td>Demonstration</td>\n",
       "      <td>Wright Flyer III</td>\n",
       "      <td></td>\n",
       "      <td>1</td>\n",
       "      <td>2</td>\n",
       "      <td>1</td>\n",
       "      <td>1</td>\n",
       "      <td>1</td>\n",
       "      <td>1</td>\n",
       "      <td>0</td>\n",
       "      <td>0</td>\n",
       "      <td>During a demonstration flight, a U.S. Army fly...</td>\n",
       "    </tr>\n",
       "    <tr>\n",
       "      <th>1</th>\n",
       "      <td>1909-09-07</td>\n",
       "      <td>00:00:00</td>\n",
       "      <td>Juvisy-sur-Orge, France</td>\n",
       "      <td></td>\n",
       "      <td></td>\n",
       "      <td>Air show</td>\n",
       "      <td>Wright Byplane</td>\n",
       "      <td>SC1</td>\n",
       "      <td></td>\n",
       "      <td>1</td>\n",
       "      <td>0</td>\n",
       "      <td>1</td>\n",
       "      <td>1</td>\n",
       "      <td>0</td>\n",
       "      <td>0</td>\n",
       "      <td>0</td>\n",
       "      <td>Eugene Lefebvre was the first pilot to ever be...</td>\n",
       "    </tr>\n",
       "    <tr>\n",
       "      <th>2</th>\n",
       "      <td>1912-07-12</td>\n",
       "      <td>06:30:00</td>\n",
       "      <td>Atlantic City, New Jersey</td>\n",
       "      <td>Military - U.S. Navy</td>\n",
       "      <td></td>\n",
       "      <td>Test flight</td>\n",
       "      <td>Dirigible</td>\n",
       "      <td></td>\n",
       "      <td></td>\n",
       "      <td>5</td>\n",
       "      <td>0</td>\n",
       "      <td>5</td>\n",
       "      <td>5</td>\n",
       "      <td>0</td>\n",
       "      <td>5</td>\n",
       "      <td>0</td>\n",
       "      <td>First U.S. dirigible Akron exploded just offsh...</td>\n",
       "    </tr>\n",
       "    <tr>\n",
       "      <th>3</th>\n",
       "      <td>1913-08-06</td>\n",
       "      <td>00:00:00</td>\n",
       "      <td>Victoria, British Columbia, Canada</td>\n",
       "      <td>Private</td>\n",
       "      <td></td>\n",
       "      <td></td>\n",
       "      <td>Curtiss seaplane</td>\n",
       "      <td></td>\n",
       "      <td></td>\n",
       "      <td>1</td>\n",
       "      <td>0</td>\n",
       "      <td>1</td>\n",
       "      <td>1</td>\n",
       "      <td>0</td>\n",
       "      <td>1</td>\n",
       "      <td>0</td>\n",
       "      <td>The first fatal airplane accident in Canada oc...</td>\n",
       "    </tr>\n",
       "    <tr>\n",
       "      <th>4</th>\n",
       "      <td>1913-09-09</td>\n",
       "      <td>18:30:00</td>\n",
       "      <td>Over the North Sea</td>\n",
       "      <td>Military - German Navy</td>\n",
       "      <td></td>\n",
       "      <td></td>\n",
       "      <td>Zeppelin L-1 (airship)</td>\n",
       "      <td></td>\n",
       "      <td></td>\n",
       "      <td>20</td>\n",
       "      <td></td>\n",
       "      <td></td>\n",
       "      <td>14</td>\n",
       "      <td></td>\n",
       "      <td></td>\n",
       "      <td>0</td>\n",
       "      <td>The airship flew into a thunderstorm and encou...</td>\n",
       "    </tr>\n",
       "  </tbody>\n",
       "</table>\n",
       "</div>"
      ],
      "text/plain": [
       "        fecha      hora                                ruta  \\\n",
       "id                                                            \n",
       "0  1908-09-17  17:18:00                 Fort Myer, Virginia   \n",
       "1  1909-09-07  00:00:00             Juvisy-sur-Orge, France   \n",
       "2  1912-07-12  06:30:00           Atlantic City, New Jersey   \n",
       "3  1913-08-06  00:00:00  Victoria, British Columbia, Canada   \n",
       "4  1913-09-09  18:30:00                  Over the North Sea   \n",
       "\n",
       "                  operador nro_vuelo          route           tipo_aeronave  \\\n",
       "id                                                                            \n",
       "0     Military - U.S. Army            Demonstration        Wright Flyer III   \n",
       "1                                          Air show          Wright Byplane   \n",
       "2     Military - U.S. Navy              Test flight               Dirigible   \n",
       "3                  Private                                 Curtiss seaplane   \n",
       "4   Military - German Navy                           Zeppelin L-1 (airship)   \n",
       "\n",
       "   registro cn_ln total_a_bordo pasajeros_a_bordo tripulacion  \\\n",
       "id                                                              \n",
       "0               1             2                 1           1   \n",
       "1       SC1                   1                 0           1   \n",
       "2                             5                 0           5   \n",
       "3                             1                 0           1   \n",
       "4                            20                                 \n",
       "\n",
       "   cantidad_de_fallecidos pasajeros_fallecidos tripulacion_fallecida  \\\n",
       "id                                                                     \n",
       "0                       1                    1                     0   \n",
       "1                       1                    0                     0   \n",
       "2                       5                    0                     5   \n",
       "3                       1                    0                     1   \n",
       "4                      14                                              \n",
       "\n",
       "   fallecidos_en_tierra                                            resumen  \n",
       "id                                                                          \n",
       "0                     0  During a demonstration flight, a U.S. Army fly...  \n",
       "1                     0  Eugene Lefebvre was the first pilot to ever be...  \n",
       "2                     0  First U.S. dirigible Akron exploded just offsh...  \n",
       "3                     0  The first fatal airplane accident in Canada oc...  \n",
       "4                     0  The airship flew into a thunderstorm and encou...  "
      ]
     },
     "execution_count": 72,
     "metadata": {},
     "output_type": "execute_result"
    }
   ],
   "source": [
    "data.head()\n"
   ]
  },
  {
   "cell_type": "markdown",
   "metadata": {},
   "source": [
    "Normalizacion de tipo de datos de las columnas"
   ]
  },
  {
   "cell_type": "code",
   "execution_count": 73,
   "metadata": {},
   "outputs": [],
   "source": [
    "data.replace([''],'NaN', inplace=True)"
   ]
  },
  {
   "cell_type": "code",
   "execution_count": 74,
   "metadata": {},
   "outputs": [],
   "source": [
    "data.total_a_bordo=data.total_a_bordo.astype(float)"
   ]
  },
  {
   "cell_type": "code",
   "execution_count": 75,
   "metadata": {},
   "outputs": [],
   "source": [
    "data.pasajeros_a_bordo=data.pasajeros_a_bordo.astype(float)"
   ]
  },
  {
   "cell_type": "code",
   "execution_count": 76,
   "metadata": {},
   "outputs": [],
   "source": [
    "data.tripulacion=data.tripulacion.astype(float)"
   ]
  },
  {
   "cell_type": "code",
   "execution_count": 77,
   "metadata": {},
   "outputs": [],
   "source": [
    "data.cantidad_de_fallecidos=data.cantidad_de_fallecidos.astype(float)"
   ]
  },
  {
   "cell_type": "code",
   "execution_count": 78,
   "metadata": {},
   "outputs": [],
   "source": [
    "data.pasajeros_fallecidos=data.pasajeros_fallecidos.astype(float)"
   ]
  },
  {
   "cell_type": "code",
   "execution_count": 79,
   "metadata": {},
   "outputs": [],
   "source": [
    "data.tripulacion_fallecida=data.tripulacion_fallecida.astype(float)"
   ]
  },
  {
   "cell_type": "code",
   "execution_count": 80,
   "metadata": {},
   "outputs": [],
   "source": [
    "data.fallecidos_en_tierra=data.fallecidos_en_tierra.astype(float)"
   ]
  },
  {
   "cell_type": "code",
   "execution_count": 81,
   "metadata": {},
   "outputs": [
    {
     "name": "stdout",
     "output_type": "stream",
     "text": [
      "fecha                     datetime64[ns]\n",
      "hora                              object\n",
      "ruta                              object\n",
      "operador                          object\n",
      "nro_vuelo                         object\n",
      "route                             object\n",
      "tipo_aeronave                     object\n",
      "registro                          object\n",
      "cn_ln                             object\n",
      "total_a_bordo                    float64\n",
      "pasajeros_a_bordo                float64\n",
      "tripulacion                      float64\n",
      "cantidad_de_fallecidos           float64\n",
      "pasajeros_fallecidos             float64\n",
      "tripulacion_fallecida            float64\n",
      "fallecidos_en_tierra             float64\n",
      "resumen                           object\n",
      "dtype: object\n"
     ]
    }
   ],
   "source": [
    "print(data.dtypes)"
   ]
  },
  {
   "cell_type": "code",
   "execution_count": 83,
   "metadata": {},
   "outputs": [
    {
     "name": "stdout",
     "output_type": "stream",
     "text": [
      "<class 'pandas.core.frame.DataFrame'>\n",
      "Int64Index: 5008 entries, 0 to 5007\n",
      "Data columns (total 17 columns):\n",
      " #   Column                  Non-Null Count  Dtype         \n",
      "---  ------                  --------------  -----         \n",
      " 0   fecha                   5008 non-null   datetime64[ns]\n",
      " 1   hora                    5008 non-null   object        \n",
      " 2   ruta                    5008 non-null   object        \n",
      " 3   operador                5008 non-null   object        \n",
      " 4   nro_vuelo               5008 non-null   object        \n",
      " 5   route                   5008 non-null   object        \n",
      " 6   tipo_aeronave           5008 non-null   object        \n",
      " 7   registro                5008 non-null   object        \n",
      " 8   cn_ln                   5008 non-null   object        \n",
      " 9   total_a_bordo           4991 non-null   float64       \n",
      " 10  pasajeros_a_bordo       4787 non-null   float64       \n",
      " 11  tripulacion             4789 non-null   float64       \n",
      " 12  cantidad_de_fallecidos  5000 non-null   float64       \n",
      " 13  pasajeros_fallecidos    4773 non-null   float64       \n",
      " 14  tripulacion_fallecida   4773 non-null   float64       \n",
      " 15  fallecidos_en_tierra    4964 non-null   float64       \n",
      " 16  resumen                 5008 non-null   object        \n",
      "dtypes: datetime64[ns](1), float64(7), object(9)\n",
      "memory usage: 704.2+ KB\n"
     ]
    }
   ],
   "source": [
    "data.info()"
   ]
  },
  {
   "cell_type": "code",
   "execution_count": 243,
   "metadata": {},
   "outputs": [
    {
     "data": {
      "text/html": [
       "<div>\n",
       "<style scoped>\n",
       "    .dataframe tbody tr th:only-of-type {\n",
       "        vertical-align: middle;\n",
       "    }\n",
       "\n",
       "    .dataframe tbody tr th {\n",
       "        vertical-align: top;\n",
       "    }\n",
       "\n",
       "    .dataframe thead th {\n",
       "        text-align: right;\n",
       "    }\n",
       "</style>\n",
       "<table border=\"1\" class=\"dataframe\">\n",
       "  <thead>\n",
       "    <tr style=\"text-align: right;\">\n",
       "      <th></th>\n",
       "      <th>unnamed: 0</th>\n",
       "      <th>fecha</th>\n",
       "      <th>hora_declarada</th>\n",
       "      <th>ruta</th>\n",
       "      <th>operador</th>\n",
       "      <th>flight_no</th>\n",
       "      <th>route</th>\n",
       "      <th>ac_type</th>\n",
       "      <th>registration</th>\n",
       "      <th>cn_ln</th>\n",
       "      <th>all_aboard</th>\n",
       "      <th>pasajeros_a_bordo</th>\n",
       "      <th>crew_aboard</th>\n",
       "      <th>cantidad_de_fallecidos</th>\n",
       "      <th>passenger_fatalities</th>\n",
       "      <th>crew_fatalities</th>\n",
       "      <th>ground</th>\n",
       "      <th>summary</th>\n",
       "    </tr>\n",
       "  </thead>\n",
       "  <tbody>\n",
       "    <tr>\n",
       "      <th>0</th>\n",
       "      <td>0</td>\n",
       "      <td>1908-09-17</td>\n",
       "      <td>17:18:00</td>\n",
       "      <td>Fort Myer, Virginia</td>\n",
       "      <td>Military - U.S. Army</td>\n",
       "      <td>NaN</td>\n",
       "      <td>Demonstration</td>\n",
       "      <td>Wright Flyer III</td>\n",
       "      <td>NaN</td>\n",
       "      <td>1</td>\n",
       "      <td>2.00</td>\n",
       "      <td>1.00</td>\n",
       "      <td>1.00</td>\n",
       "      <td>1.00</td>\n",
       "      <td>1.00</td>\n",
       "      <td>0.00</td>\n",
       "      <td>0.00</td>\n",
       "      <td>During a demonstration flight, a U.S. Army fly...</td>\n",
       "    </tr>\n",
       "    <tr>\n",
       "      <th>1</th>\n",
       "      <td>1</td>\n",
       "      <td>1909-09-07</td>\n",
       "      <td>00:00:00</td>\n",
       "      <td>Juvisy-sur-Orge, France</td>\n",
       "      <td>NaN</td>\n",
       "      <td>NaN</td>\n",
       "      <td>Air show</td>\n",
       "      <td>Wright Byplane</td>\n",
       "      <td>SC1</td>\n",
       "      <td>NaN</td>\n",
       "      <td>1.00</td>\n",
       "      <td>0.00</td>\n",
       "      <td>1.00</td>\n",
       "      <td>1.00</td>\n",
       "      <td>0.00</td>\n",
       "      <td>0.00</td>\n",
       "      <td>0.00</td>\n",
       "      <td>Eugene Lefebvre was the first pilot to ever be...</td>\n",
       "    </tr>\n",
       "  </tbody>\n",
       "</table>\n",
       "</div>"
      ],
      "text/plain": [
       "   unnamed: 0      fecha hora_declarada                     ruta  \\\n",
       "0           0 1908-09-17       17:18:00      Fort Myer, Virginia   \n",
       "1           1 1909-09-07       00:00:00  Juvisy-sur-Orge, France   \n",
       "\n",
       "               operador flight_no          route           ac_type  \\\n",
       "0  Military - U.S. Army       NaN  Demonstration  Wright Flyer III   \n",
       "1                   NaN       NaN       Air show    Wright Byplane   \n",
       "\n",
       "  registration cn_ln  all_aboard  pasajeros_a_bordo  crew_aboard  \\\n",
       "0          NaN     1        2.00               1.00         1.00   \n",
       "1          SC1   NaN        1.00               0.00         1.00   \n",
       "\n",
       "   cantidad_de_fallecidos  passenger_fatalities  crew_fatalities  ground  \\\n",
       "0                    1.00                  1.00             0.00    0.00   \n",
       "1                    1.00                  0.00             0.00    0.00   \n",
       "\n",
       "                                             summary  \n",
       "0  During a demonstration flight, a U.S. Army fly...  \n",
       "1  Eugene Lefebvre was the first pilot to ever be...  "
      ]
     },
     "execution_count": 243,
     "metadata": {},
     "output_type": "execute_result"
    }
   ],
   "source": [
    "data.head(2)\n",
    "\n"
   ]
  },
  {
   "cell_type": "markdown",
   "metadata": {},
   "source": [
    "Traduzco la columna resumen"
   ]
  },
  {
   "cell_type": "code",
   "execution_count": 89,
   "metadata": {},
   "outputs": [],
   "source": [
    "traductor = GoogleTranslator(source='en', target='es')\n",
    "data['informe'] = data['resumen'].apply(lambda x: traductor.translate(x))\n"
   ]
  },
  {
   "cell_type": "code",
   "execution_count": 90,
   "metadata": {},
   "outputs": [
    {
     "data": {
      "text/html": [
       "<div>\n",
       "<style scoped>\n",
       "    .dataframe tbody tr th:only-of-type {\n",
       "        vertical-align: middle;\n",
       "    }\n",
       "\n",
       "    .dataframe tbody tr th {\n",
       "        vertical-align: top;\n",
       "    }\n",
       "\n",
       "    .dataframe thead th {\n",
       "        text-align: right;\n",
       "    }\n",
       "</style>\n",
       "<table border=\"1\" class=\"dataframe\">\n",
       "  <thead>\n",
       "    <tr style=\"text-align: right;\">\n",
       "      <th></th>\n",
       "      <th>fecha</th>\n",
       "      <th>hora</th>\n",
       "      <th>ruta</th>\n",
       "      <th>operador</th>\n",
       "      <th>nro_vuelo</th>\n",
       "      <th>route</th>\n",
       "      <th>tipo_aeronave</th>\n",
       "      <th>registro</th>\n",
       "      <th>cn_ln</th>\n",
       "      <th>total_a_bordo</th>\n",
       "      <th>pasajeros_a_bordo</th>\n",
       "      <th>tripulacion</th>\n",
       "      <th>cantidad_de_fallecidos</th>\n",
       "      <th>pasajeros_fallecidos</th>\n",
       "      <th>tripulacion_fallecida</th>\n",
       "      <th>fallecidos_en_tierra</th>\n",
       "      <th>resumen</th>\n",
       "      <th>informe</th>\n",
       "    </tr>\n",
       "    <tr>\n",
       "      <th>id</th>\n",
       "      <th></th>\n",
       "      <th></th>\n",
       "      <th></th>\n",
       "      <th></th>\n",
       "      <th></th>\n",
       "      <th></th>\n",
       "      <th></th>\n",
       "      <th></th>\n",
       "      <th></th>\n",
       "      <th></th>\n",
       "      <th></th>\n",
       "      <th></th>\n",
       "      <th></th>\n",
       "      <th></th>\n",
       "      <th></th>\n",
       "      <th></th>\n",
       "      <th></th>\n",
       "      <th></th>\n",
       "    </tr>\n",
       "  </thead>\n",
       "  <tbody>\n",
       "    <tr>\n",
       "      <th>0</th>\n",
       "      <td>1908-09-17</td>\n",
       "      <td>17:18:00</td>\n",
       "      <td>Fort Myer, Virginia</td>\n",
       "      <td>Military - U.S. Army</td>\n",
       "      <td>NaN</td>\n",
       "      <td>Demonstration</td>\n",
       "      <td>Wright Flyer III</td>\n",
       "      <td>NaN</td>\n",
       "      <td>1</td>\n",
       "      <td>2.00</td>\n",
       "      <td>1.00</td>\n",
       "      <td>1.00</td>\n",
       "      <td>1.00</td>\n",
       "      <td>1.00</td>\n",
       "      <td>0.00</td>\n",
       "      <td>0.00</td>\n",
       "      <td>During a demonstration flight, a U.S. Army fly...</td>\n",
       "      <td>Durante un vuelo de demostración, un avión del...</td>\n",
       "    </tr>\n",
       "    <tr>\n",
       "      <th>1</th>\n",
       "      <td>1909-09-07</td>\n",
       "      <td>00:00:00</td>\n",
       "      <td>Juvisy-sur-Orge, France</td>\n",
       "      <td>NaN</td>\n",
       "      <td>NaN</td>\n",
       "      <td>Air show</td>\n",
       "      <td>Wright Byplane</td>\n",
       "      <td>SC1</td>\n",
       "      <td>NaN</td>\n",
       "      <td>1.00</td>\n",
       "      <td>0.00</td>\n",
       "      <td>1.00</td>\n",
       "      <td>1.00</td>\n",
       "      <td>0.00</td>\n",
       "      <td>0.00</td>\n",
       "      <td>0.00</td>\n",
       "      <td>Eugene Lefebvre was the first pilot to ever be...</td>\n",
       "      <td>Eugene Lefebvre fue el primer piloto en morir ...</td>\n",
       "    </tr>\n",
       "    <tr>\n",
       "      <th>2</th>\n",
       "      <td>1912-07-12</td>\n",
       "      <td>06:30:00</td>\n",
       "      <td>Atlantic City, New Jersey</td>\n",
       "      <td>Military - U.S. Navy</td>\n",
       "      <td>NaN</td>\n",
       "      <td>Test flight</td>\n",
       "      <td>Dirigible</td>\n",
       "      <td>NaN</td>\n",
       "      <td>NaN</td>\n",
       "      <td>5.00</td>\n",
       "      <td>0.00</td>\n",
       "      <td>5.00</td>\n",
       "      <td>5.00</td>\n",
       "      <td>0.00</td>\n",
       "      <td>5.00</td>\n",
       "      <td>0.00</td>\n",
       "      <td>First U.S. dirigible Akron exploded just offsh...</td>\n",
       "      <td>El primer dirigible estadounidense Akron explo...</td>\n",
       "    </tr>\n",
       "    <tr>\n",
       "      <th>3</th>\n",
       "      <td>1913-08-06</td>\n",
       "      <td>00:00:00</td>\n",
       "      <td>Victoria, British Columbia, Canada</td>\n",
       "      <td>Private</td>\n",
       "      <td>NaN</td>\n",
       "      <td>NaN</td>\n",
       "      <td>Curtiss seaplane</td>\n",
       "      <td>NaN</td>\n",
       "      <td>NaN</td>\n",
       "      <td>1.00</td>\n",
       "      <td>0.00</td>\n",
       "      <td>1.00</td>\n",
       "      <td>1.00</td>\n",
       "      <td>0.00</td>\n",
       "      <td>1.00</td>\n",
       "      <td>0.00</td>\n",
       "      <td>The first fatal airplane accident in Canada oc...</td>\n",
       "      <td>El primer accidente de avión mortal en Canadá ...</td>\n",
       "    </tr>\n",
       "    <tr>\n",
       "      <th>4</th>\n",
       "      <td>1913-09-09</td>\n",
       "      <td>18:30:00</td>\n",
       "      <td>Over the North Sea</td>\n",
       "      <td>Military - German Navy</td>\n",
       "      <td>NaN</td>\n",
       "      <td>NaN</td>\n",
       "      <td>Zeppelin L-1 (airship)</td>\n",
       "      <td>NaN</td>\n",
       "      <td>NaN</td>\n",
       "      <td>20.00</td>\n",
       "      <td>NaN</td>\n",
       "      <td>NaN</td>\n",
       "      <td>14.00</td>\n",
       "      <td>NaN</td>\n",
       "      <td>NaN</td>\n",
       "      <td>0.00</td>\n",
       "      <td>The airship flew into a thunderstorm and encou...</td>\n",
       "      <td>La aeronave voló hacia una tormenta eléctrica ...</td>\n",
       "    </tr>\n",
       "  </tbody>\n",
       "</table>\n",
       "</div>"
      ],
      "text/plain": [
       "        fecha      hora                                ruta  \\\n",
       "id                                                            \n",
       "0  1908-09-17  17:18:00                 Fort Myer, Virginia   \n",
       "1  1909-09-07  00:00:00             Juvisy-sur-Orge, France   \n",
       "2  1912-07-12  06:30:00           Atlantic City, New Jersey   \n",
       "3  1913-08-06  00:00:00  Victoria, British Columbia, Canada   \n",
       "4  1913-09-09  18:30:00                  Over the North Sea   \n",
       "\n",
       "                  operador nro_vuelo          route           tipo_aeronave  \\\n",
       "id                                                                            \n",
       "0     Military - U.S. Army       NaN  Demonstration        Wright Flyer III   \n",
       "1                      NaN       NaN       Air show          Wright Byplane   \n",
       "2     Military - U.S. Navy       NaN    Test flight               Dirigible   \n",
       "3                  Private       NaN            NaN        Curtiss seaplane   \n",
       "4   Military - German Navy       NaN            NaN  Zeppelin L-1 (airship)   \n",
       "\n",
       "   registro cn_ln  total_a_bordo  pasajeros_a_bordo  tripulacion  \\\n",
       "id                                                                 \n",
       "0       NaN     1           2.00               1.00         1.00   \n",
       "1       SC1   NaN           1.00               0.00         1.00   \n",
       "2       NaN   NaN           5.00               0.00         5.00   \n",
       "3       NaN   NaN           1.00               0.00         1.00   \n",
       "4       NaN   NaN          20.00                NaN          NaN   \n",
       "\n",
       "    cantidad_de_fallecidos  pasajeros_fallecidos  tripulacion_fallecida  \\\n",
       "id                                                                        \n",
       "0                     1.00                  1.00                   0.00   \n",
       "1                     1.00                  0.00                   0.00   \n",
       "2                     5.00                  0.00                   5.00   \n",
       "3                     1.00                  0.00                   1.00   \n",
       "4                    14.00                   NaN                    NaN   \n",
       "\n",
       "    fallecidos_en_tierra                                            resumen  \\\n",
       "id                                                                            \n",
       "0                   0.00  During a demonstration flight, a U.S. Army fly...   \n",
       "1                   0.00  Eugene Lefebvre was the first pilot to ever be...   \n",
       "2                   0.00  First U.S. dirigible Akron exploded just offsh...   \n",
       "3                   0.00  The first fatal airplane accident in Canada oc...   \n",
       "4                   0.00  The airship flew into a thunderstorm and encou...   \n",
       "\n",
       "                                              informe  \n",
       "id                                                     \n",
       "0   Durante un vuelo de demostración, un avión del...  \n",
       "1   Eugene Lefebvre fue el primer piloto en morir ...  \n",
       "2   El primer dirigible estadounidense Akron explo...  \n",
       "3   El primer accidente de avión mortal en Canadá ...  \n",
       "4   La aeronave voló hacia una tormenta eléctrica ...  "
      ]
     },
     "execution_count": 90,
     "metadata": {},
     "output_type": "execute_result"
    }
   ],
   "source": [
    "data.head()\n"
   ]
  },
  {
   "cell_type": "markdown",
   "metadata": {},
   "source": [
    "Descripcion de datos"
   ]
  },
  {
   "cell_type": "code",
   "execution_count": 84,
   "metadata": {},
   "outputs": [
    {
     "data": {
      "text/plain": [
       "0"
      ]
     },
     "execution_count": 84,
     "metadata": {},
     "output_type": "execute_result"
    }
   ],
   "source": [
    "data.duplicated().sum()"
   ]
  },
  {
   "cell_type": "code",
   "execution_count": null,
   "metadata": {},
   "outputs": [],
   "source": [
    "data.describe(exclude=[object])"
   ]
  },
  {
   "cell_type": "code",
   "execution_count": 88,
   "metadata": {},
   "outputs": [
    {
     "data": {
      "image/png": "[encoded data removed]",
      "text/plain": [
       "<Figure size 1800x720 with 3 Axes>"
      ]
     },
     "metadata": {
      "needs_background": "light"
     },
     "output_type": "display_data"
    }
   ],
   "source": [
    "msno.bar(data)\n",
    "plt.show()"
   ]
  },
  {
   "cell_type": "markdown",
   "metadata": {},
   "source": [
    "En vez de Dropear las columnas que no usare, genero un nuevo dataset con las columnas utiles."
   ]
  },
  {
   "cell_type": "code",
   "execution_count": 112,
   "metadata": {},
   "outputs": [],
   "source": [
    "accidentes = data [['fecha','hora','ruta','operador','nro_vuelo',\n",
    "                          'tipo_aeronave','registro','cn_ln',\n",
    "                          'total_a_bordo',\n",
    "                          'cantidad_de_fallecidos',\n",
    "                          'fallecidos_en_tierra']]"
   ]
  },
  {
   "cell_type": "code",
   "execution_count": 113,
   "metadata": {},
   "outputs": [
    {
     "name": "stdout",
     "output_type": "stream",
     "text": [
      "<class 'pandas.core.frame.DataFrame'>\n",
      "Int64Index: 5008 entries, 0 to 5007\n",
      "Data columns (total 12 columns):\n",
      " #   Column                  Non-Null Count  Dtype         \n",
      "---  ------                  --------------  -----         \n",
      " 0   fecha                   5008 non-null   datetime64[ns]\n",
      " 1   hora                    5008 non-null   object        \n",
      " 2   ruta                    5008 non-null   object        \n",
      " 3   operador                5008 non-null   object        \n",
      " 4   nro_vuelo               5008 non-null   object        \n",
      " 5   tipo_aeronave           5008 non-null   object        \n",
      " 6   registro                5008 non-null   object        \n",
      " 7   cn_ln                   5008 non-null   object        \n",
      " 8   total_a_bordo           4991 non-null   float64       \n",
      " 9   cantidad_de_fallecidos  5000 non-null   float64       \n",
      " 10  fallecidos_en_tierra    4964 non-null   float64       \n",
      " 11  informe                 5008 non-null   object        \n",
      "dtypes: datetime64[ns](1), float64(3), object(8)\n",
      "memory usage: 508.6+ KB\n"
     ]
    }
   ],
   "source": [
    "accidentes.info()"
   ]
  },
  {
   "cell_type": "code",
   "execution_count": 97,
   "metadata": {},
   "outputs": [
    {
     "data": {
      "text/plain": [
       "Aeroflot                            253\n",
       "Military - U.S. Air Force           141\n",
       "Air France                           74\n",
       "Deutsche Lufthansa                   63\n",
       "United Air Lines                     44\n",
       "                                   ... \n",
       "Sierra Pacific Airlines               1\n",
       "Pathet Lao Airlines                   1\n",
       "Military - West German Air Force      1\n",
       "Cessnyca                              1\n",
       "Kamchatka Aviation Enterprise         1\n",
       "Name: operador, Length: 2268, dtype: int64"
      ]
     },
     "execution_count": 97,
     "metadata": {},
     "output_type": "execute_result"
    }
   ],
   "source": [
    "operador=accidentes['operador'].value_counts()\n",
    "operador"
   ]
  },
  {
   "cell_type": "code",
   "execution_count": 109,
   "metadata": {},
   "outputs": [
    {
     "name": "stderr",
     "output_type": "stream",
     "text": [
      "C:\\Users\\HP\\AppData\\Local\\Temp\\ipykernel_6928\\275201219.py:1: SettingWithCopyWarning: \n",
      "A value is trying to be set on a copy of a slice from a DataFrame\n",
      "\n",
      "See the caveats in the documentation: https://pandas.pydata.org/pandas-docs/stable/user_guide/indexing.html#returning-a-view-versus-a-copy\n",
      "  accidentes.hora.replace(['0'],'', inplace=True)\n"
     ]
    }
   ],
   "source": [
    "accidentes.hora.replace(['0'],'', inplace=True)"
   ]
  },
  {
   "cell_type": "code",
   "execution_count": 110,
   "metadata": {},
   "outputs": [
    {
     "data": {
      "text/plain": [
       "00:00:00    1506\n",
       "15:00:00      38\n",
       "17:00:00      34\n",
       "14:00:00      33\n",
       "11:00:00      32\n",
       "            ... \n",
       "14:24:00       1\n",
       "06:06:00       1\n",
       "02:42:00       1\n",
       "21:16:00       1\n",
       "19:14:00       1\n",
       "Name: hora, Length: 1060, dtype: int64"
      ]
     },
     "execution_count": 110,
     "metadata": {},
     "output_type": "execute_result"
    }
   ],
   "source": [
    "hora=accidentes['hora'].value_counts()\n",
    "hora"
   ]
  },
  {
   "cell_type": "markdown",
   "metadata": {},
   "source": [
    "Analizo, TopTen Horarios de accidentes"
   ]
  },
  {
   "cell_type": "code",
   "execution_count": 101,
   "metadata": {},
   "outputs": [
    {
     "name": "stdout",
     "output_type": "stream",
     "text": [
      "437\n",
      "236\n",
      "128\n",
      "72\n",
      "37\n",
      "30\n",
      "27\n",
      "13\n",
      "12\n",
      "9\n"
     ]
    }
   ],
   "source": [
    "hora=accidentes['hora'].value_counts()\n",
    "hora\n",
    "print(hora[hora==1].count())\n",
    "print(hora[hora==2].count())\n",
    "print(hora[hora==3].count())\n",
    "print(hora[hora==4].count())\n",
    "print(hora[hora==5].count())\n",
    "print(hora[hora==6].count())\n",
    "print(hora[hora==7].count())\n",
    "print(hora[hora==8].count())\n",
    "print(hora[hora==9].count())\n",
    "print(hora[hora==10].count())"
   ]
  },
  {
   "cell_type": "markdown",
   "metadata": {},
   "source": [
    "Guardo el dataset como .csv"
   ]
  },
  {
   "cell_type": "code",
   "execution_count": 117,
   "metadata": {},
   "outputs": [],
   "source": [
    "accidentes.to_csv('accidentes.csv', sep=',')"
   ]
  },
  {
   "cell_type": "code",
   "execution_count": null,
   "metadata": {},
   "outputs": [],
   "source": []
  }
 ],
 "metadata": {
  "kernelspec": {
   "display_name": "Python 3.10.8 64-bit (microsoft store)",
   "language": "python",
   "name": "python3"
  },
  "language_info": {
   "codemirror_mode": {
    "name": "ipython",
    "version": 3
   },
   "file_extension": ".py",
   "mimetype": "text/x-python",
   "name": "python",
   "nbconvert_exporter": "python",
   "pygments_lexer": "ipython3",
   "version": "3.10.8"
  },
  "orig_nbformat": 4,
  "vscode": {
   "interpreter": {
    "hash": "486e0d5a79acdbfffd563ee7a67a93a5017bd2a4f66495483a69f0245c8a4a6c"
   }
  }
 },
 "nbformat": 4,
 "nbformat_minor": 2
}
